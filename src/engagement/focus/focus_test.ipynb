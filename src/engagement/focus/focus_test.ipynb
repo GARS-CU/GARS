{
 "cells": [
  {
   "cell_type": "code",
   "execution_count": 67,
   "metadata": {},
   "outputs": [
    {
     "name": "stderr",
     "output_type": "stream",
     "text": [
      "[ WARN:0@32110.579] global cap_gstreamer.cpp:2838 handleMessage OpenCV | GStreamer warning: Embedded video playback halted; module v4l2src22 reported: Cannot identify device '/dev/video0'.\n",
      "[ WARN:0@32110.579] global cap_gstreamer.cpp:1698 open OpenCV | GStreamer warning: unable to start pipeline\n",
      "[ WARN:0@32110.579] global cap_gstreamer.cpp:1173 isPipelinePlaying OpenCV | GStreamer warning: GStreamer: pipeline have not been created\n",
      "[ WARN:0@32110.579] global cap_v4l.cpp:997 open VIDEOIO(V4L2:/dev/video0): can't open camera by index\n",
      "[ERROR:0@32110.579] global obsensor_uvc_stream_channel.cpp:159 getStreamChannelGroup Camera index out of range\n",
      "libdc1394 error: Failed to initialize libdc1394\n"
     ]
    },
    {
     "name": "stdout",
     "output_type": "stream",
     "text": [
      "Could not find the HAAR face detector location\n",
      "Reading the landmark detector/tracker from: /home/openface-build/build/bin/model/main_ceclm_general.txt\n",
      "Reading the landmark detector module from: /home/openface-build/build/bin/model/cen_general.txt\n",
      "Reading the PDM module from: /home/openface-build/build/bin/model/pdms/In-the-wild_aligned_PDM_68.txt....Done\n",
      "Reading the Triangulations module from: /home/openface-build/build/bin/model/tris_68.txt....Done\n",
      "Reading the intensity CEN patch experts from: /home/openface-build/build/bin/model/patch_experts/cen_patches_0.25_of.dat....Done\n",
      "Reading the intensity CEN patch experts from: /home/openface-build/build/bin/model/patch_experts/cen_patches_0.35_of.dat....Done\n",
      "Reading the intensity CEN patch experts from: /home/openface-build/build/bin/model/patch_experts/cen_patches_0.50_of.dat....Done\n",
      "Reading the intensity CEN patch experts from: /home/openface-build/build/bin/model/patch_experts/cen_patches_1.00_of.dat....Done\n",
      "Reading part based module....left_eye_28\n",
      "Reading the landmark detector/tracker from: /home/openface-build/build/bin/model/model_eye/main_clnf_synth_left.txt\n",
      "Reading the landmark detector module from: /home/openface-build/build/bin/model/model_eye/clnf_left_synth.txt\n",
      "Reading the PDM module from: /home/openface-build/build/bin/model/model_eye/pdms/pdm_28_l_eye_3D_closed.txt....Done\n",
      "Reading the intensity CCNF patch experts from: /home/openface-build/build/bin/model/model_eye/patch_experts/left_ccnf_patches_1.00_synth_lid_.txt....Done\n",
      "Reading the intensity CCNF patch experts from: /home/openface-build/build/bin/model/model_eye/patch_experts/left_ccnf_patches_1.50_synth_lid_.txt....Done\n",
      "Could not find the landmark detection model to load\n",
      "Done\n",
      "Reading part based module....right_eye_28\n",
      "Reading the landmark detector/tracker from: /home/openface-build/build/bin/model/model_eye/main_clnf_synth_right.txt\n",
      "Reading the landmark detector module from: /home/openface-build/build/bin/model/model_eye/clnf_right_synth.txt\n",
      "Reading the PDM module from: /home/openface-build/build/bin/model/model_eye/pdms/pdm_28_eye_3D_closed.txt....Done\n",
      "Reading the intensity CCNF patch experts from: /home/openface-build/build/bin/model/model_eye/patch_experts/ccnf_patches_1.00_synth_lid_.txt....Done\n",
      "Reading the intensity CCNF patch experts from: /home/openface-build/build/bin/model/model_eye/patch_experts/ccnf_patches_1.50_synth_lid_.txt....Done\n",
      "Could not find the landmark detection model to load\n",
      "Done\n",
      "Reading the landmark validation module....Done\n",
      "Reading the AU analysis module from: /home/openface-build/build/bin/AU_predictors/main_dynamic_svms.txt\n",
      "Reading the AU predictors from: /home/openface-build/build/bin/AU_predictors/AU_all_best.txt... Done\n",
      "Reading the PDM from: /home/openface-build/build/bin/AU_predictors/In-the-wild_aligned_PDM_68.txt... Done\n",
      "Reading the triangulation from:/home/openface-build/build/bin/AU_predictors/tris_68_full.txt... Done\n",
      "Attempting to read from file: calibrate.avi\n",
      "Device or file opened\n",
      "Starting tracking\n",
      "Closing output recorder\n",
      "Closing input reader\n",
      "Closed successfully\n",
      "Postprocessing the Action Unit predictions\n"
     ]
    },
    {
     "data": {
      "text/plain": [
       "35584"
      ]
     },
     "execution_count": 67,
     "metadata": {},
     "output_type": "execute_result"
    }
   ],
   "source": [
    "import numpy as np \n",
    "from focus_calibrator import * \n",
    "import cv2\n",
    "import datetime\n",
    "import os\n",
    "# Define the codec and create VideoWriter object\n",
    "fourcc = cv2.VideoWriter_fourcc(*'XVID')\n",
    "out = cv2.VideoWriter('calibrate.avi', fourcc, 20.0, (640, 480))\n",
    "\n",
    "# Open the default camera\n",
    "cap = cv2.VideoCapture(0)\n",
    "\n",
    "while cap.isOpened():\n",
    "    ret, frame = cap.read()\n",
    "    if not ret:\n",
    "        print(\"Can't receive frame (stream end?). Exiting ...\")\n",
    "        break\n",
    "    cv2.imshow('Video', frame)\n",
    "    # Write the flipped frame\n",
    "    out.write(frame)\n",
    "\n",
    "    # Display the resulting frame\n",
    "    cv2.imshow('frame', frame)\n",
    "    if cv2.waitKey(1) == ord('q'):\n",
    "        break\n",
    "\n",
    "# Release everything if job is finished\n",
    "cap.release()\n",
    "out.release()\n",
    "cv2.destroyAllWindows()\n",
    "os.system(\"docker exec openface_docker /home/openface-build/build/bin/FeatureExtraction -f calibrate.avi\")"
   ]
  },
  {
   "cell_type": "code",
   "execution_count": null,
   "metadata": {},
   "outputs": [],
   "source": []
  },
  {
   "cell_type": "code",
   "execution_count": 65,
   "metadata": {},
   "outputs": [
    {
     "name": "stdout",
     "output_type": "stream",
     "text": [
      "File uploaded successfully.\n",
      "{'message': 'File uploaded successfully', 'path': 'calibrate/calibrate_20240430_145400.csv'}\n"
     ]
    }
   ],
   "source": [
    "import requests\n",
    "\n",
    "# URL of the endpoint you're sending the file to\n",
    "url = 'http://199.98.27.237:8003/upload_calibrate'\n",
    "\n",
    "# Path to the CSV file you want to send\n",
    "file_path = 'processed/calibrate.csv'\n",
    "\n",
    "# Open the file in binary mode\n",
    "with open(file_path, 'rb') as f:\n",
    "    # Define the name of the form field (as expected by the server), file name, and file object\n",
    "    files = {'calibrate_file': (file_path, f)}\n",
    "\n",
    "    # Make a POST request to upload the file\n",
    "    response = requests.post(url, files=files)\n",
    "\n",
    "    # Check the response from the server\n",
    "    if response.status_code == 200:\n",
    "        print('File uploaded successfully.')\n",
    "        print(response.json())  # Print response JSON if the server sends any data back\n",
    "    else:\n",
    "        print('Failed to upload file.')\n",
    "        print(response.text)  # Print error message if something went wrong\n"
   ]
  },
  {
   "cell_type": "code",
   "execution_count": null,
   "metadata": {},
   "outputs": [],
   "source": [
    "import os\n",
    "import numpy as np \n",
    "from focus_calibrator import * \n",
    "os.system(\"docker exec openface_docker /home/openface-build/build/bin/FeatureExtraction -f demo.avi\")"
   ]
  },
  {
   "cell_type": "code",
   "execution_count": 58,
   "metadata": {},
   "outputs": [
    {
     "data": {
      "text/plain": [
       "0.057999999999999996"
      ]
     },
     "execution_count": 58,
     "metadata": {},
     "output_type": "execute_result"
    }
   ],
   "source": [
    "from focus_calibrator import * \n",
    "gaze_tracker = Focus_Calibrator('processed/calibrate.csv')\n",
    "gaze_tracker.gaze_angle_xcenter"
   ]
  },
  {
   "cell_type": "code",
   "execution_count": 48,
   "metadata": {},
   "outputs": [
    {
     "data": {
      "text/plain": [
       "array([0.83783784, 0.64864865, 0.62162162, 0.64864865, 0.63513514,\n",
       "       0.81081081, 0.77027027, 0.78378378, 0.77027027, 0.75675676,\n",
       "       0.77027027, 0.75675676, 0.71621622, 0.7027027 , 0.7027027 ,\n",
       "       0.72972973, 0.72972973, 0.90052356, 0.90052356, 0.90052356,\n",
       "       0.90575916, 0.90575916, 0.90575916, 0.90575916, 0.91623037,\n",
       "       0.91099476, 0.91099476, 0.93193717, 0.68918919, 0.47297297,\n",
       "       0.2972973 , 0.18918919, 0.22972973, 0.13513514, 0.10810811,\n",
       "       0.04054054, 0.        , 0.02702703, 0.        , 0.02702703,\n",
       "       0.04054054, 0.05405405, 0.09459459, 0.10810811, 0.39189189,\n",
       "       0.83783784, 0.85135135, 0.63513514, 0.64864865, 0.43243243,\n",
       "       0.33783784, 0.27027027, 0.24324324, 0.10810811, 0.08108108,\n",
       "       0.        , 0.01351351, 0.01351351, 0.        , 0.06756757,\n",
       "       0.06756757, 0.08108108, 0.14864865, 0.14864865, 0.33783784,\n",
       "       0.77486911, 0.62827225, 0.48691099, 0.34554974, 0.23560209,\n",
       "       0.12565445, 0.09424084, 0.04188482, 0.02617801, 0.02094241,\n",
       "       0.0104712 , 0.01570681, 0.0104712 , 0.0052356 , 0.        ,\n",
       "       0.0052356 , 0.0052356 , 0.02617801, 0.07853403, 0.20942408,\n",
       "       0.37172775, 0.59162304, 0.82198953, 0.72972973, 0.69633508,\n",
       "       0.52879581, 0.40314136, 0.27748691, 0.23560209, 0.19895288,\n",
       "       0.17801047, 0.14136126, 0.13612565, 0.14136126, 0.11518325,\n",
       "       0.06806283, 0.03664921, 0.03141361, 0.02094241, 0.0104712 ,\n",
       "       0.        , 0.        , 0.        , 0.01570681, 0.08900524,\n",
       "       0.22513089, 0.33507853, 0.48167539, 0.72774869, 0.89005236,\n",
       "       0.87837838, 0.93193717, 0.92146597, 0.89005236, 0.67567568,\n",
       "       0.89005236, 0.88481675, 0.89005236, 0.89005236, 0.90052356,\n",
       "       0.91623037, 0.92670157, 0.92670157, 0.94240838, 0.94764398,\n",
       "       0.94240838, 0.94240838, 0.95811518, 0.95811518, 0.95811518])"
      ]
     },
     "execution_count": 48,
     "metadata": {},
     "output_type": "execute_result"
    }
   ],
   "source": [
    "gaze_scores = gaze_tracker('processed/calibrate.csv')\n",
    "gaze_scores"
   ]
  },
  {
   "cell_type": "code",
   "execution_count": 61,
   "metadata": {},
   "outputs": [
    {
     "name": "stderr",
     "output_type": "stream",
     "text": [
      "[ WARN:0@30722.599] global cap_gstreamer.cpp:1777 open OpenCV | GStreamer warning: Cannot query video position: status=0, value=-1, duration=-1\n",
      "libdc1394 error: Failed to initialize libdc1394\n"
     ]
    },
    {
     "name": "stdout",
     "output_type": "stream",
     "text": [
      "Could not find the HAAR face detector location\n",
      "Reading the landmark detector/tracker from: /home/openface-build/build/bin/model/main_ceclm_general.txt\n",
      "Reading the landmark detector module from: /home/openface-build/build/bin/model/cen_general.txt\n",
      "Reading the PDM module from: /home/openface-build/build/bin/model/pdms/In-the-wild_aligned_PDM_68.txt....Done\n",
      "Reading the Triangulations module from: /home/openface-build/build/bin/model/tris_68.txt....Done\n",
      "Reading the intensity CEN patch experts from: /home/openface-build/build/bin/model/patch_experts/cen_patches_0.25_of.dat....Done\n",
      "Reading the intensity CEN patch experts from: /home/openface-build/build/bin/model/patch_experts/cen_patches_0.35_of.dat....Done\n",
      "Reading the intensity CEN patch experts from: /home/openface-build/build/bin/model/patch_experts/cen_patches_0.50_of.dat....Done\n",
      "Reading the intensity CEN patch experts from: /home/openface-build/build/bin/model/patch_experts/cen_patches_1.00_of.dat....Done\n",
      "Reading part based module....left_eye_28\n",
      "Reading the landmark detector/tracker from: /home/openface-build/build/bin/model/model_eye/main_clnf_synth_left.txt\n",
      "Reading the landmark detector module from: /home/openface-build/build/bin/model/model_eye/clnf_left_synth.txt\n",
      "Reading the PDM module from: /home/openface-build/build/bin/model/model_eye/pdms/pdm_28_l_eye_3D_closed.txt....Done\n",
      "Reading the intensity CCNF patch experts from: /home/openface-build/build/bin/model/model_eye/patch_experts/left_ccnf_patches_1.00_synth_lid_.txt....Done\n",
      "Reading the intensity CCNF patch experts from: /home/openface-build/build/bin/model/model_eye/patch_experts/left_ccnf_patches_1.50_synth_lid_.txt....Done\n",
      "Could not find the landmark detection model to load\n",
      "Done\n",
      "Reading part based module....right_eye_28\n",
      "Reading the landmark detector/tracker from: /home/openface-build/build/bin/model/model_eye/main_clnf_synth_right.txt\n",
      "Reading the landmark detector module from: /home/openface-build/build/bin/model/model_eye/clnf_right_synth.txt\n",
      "Reading the PDM module from: /home/openface-build/build/bin/model/model_eye/pdms/pdm_28_eye_3D_closed.txt....Done\n",
      "Reading the intensity CCNF patch experts from: /home/openface-build/build/bin/model/model_eye/patch_experts/ccnf_patches_1.00_synth_lid_.txt....Done\n",
      "Reading the intensity CCNF patch experts from: /home/openface-build/build/bin/model/model_eye/patch_experts/ccnf_patches_1.50_synth_lid_.txt....Done\n",
      "Could not find the landmark detection model to load\n",
      "Done\n",
      "Reading the landmark validation module....Done\n",
      "Reading the AU analysis module from: /home/openface-build/build/bin/AU_predictors/main_dynamic_svms.txt\n",
      "Reading the AU predictors from: /home/openface-build/build/bin/AU_predictors/AU_all_best.txt... Done\n",
      "Reading the PDM from: /home/openface-build/build/bin/AU_predictors/In-the-wild_aligned_PDM_68.txt... Done\n",
      "Reading the triangulation from:/home/openface-build/build/bin/AU_predictors/tris_68_full.txt... Done\n",
      "Attempting to read from file: test_vid.avi\n",
      "Device or file opened\n",
      "Starting tracking\n",
      "Reading the MTCNN face detector from: /home/openface-build/build/bin/model/mtcnn_detector/MTCNN_detector.txt\n",
      "Reading the PNet module from: /home/openface-build/build/bin/model/mtcnn_detector/PNet.dat\n",
      "Reading the RNet module from: /home/openface-build/build/bin/model/mtcnn_detector/RNet.dat\n",
      "Reading the ONet module from: /home/openface-build/build/bin/model/mtcnn_detector/ONet.dat\n",
      "0% 10% 20% 30% 40% 50% 60% 70% 80% 90% 100% \n",
      "Closing output recorder\n",
      "Closing input reader\n",
      "Closed successfully\n",
      "Postprocessing the Action Unit predictions\n"
     ]
    },
    {
     "data": {
      "text/plain": [
       "0"
      ]
     },
     "execution_count": 61,
     "metadata": {},
     "output_type": "execute_result"
    }
   ],
   "source": [
    "fourcc = cv2.VideoWriter_fourcc(*'XVID')\n",
    "out = cv2.VideoWriter('test_vid.avi', fourcc, 20.0, (640, 480))\n",
    "\n",
    "# Open the default camera\n",
    "cap = cv2.VideoCapture(0)\n",
    "\n",
    "while cap.isOpened():\n",
    "    ret, frame = cap.read()\n",
    "    if not ret:\n",
    "        print(\"Can't receive frame (stream end?). Exiting ...\")\n",
    "        break\n",
    "    cv2.imshow('Video', frame)\n",
    "    # Write the flipped frame\n",
    "    out.write(frame)\n",
    "\n",
    "    # Display the resulting frame\n",
    "    cv2.imshow('frame', frame)\n",
    "    if cv2.waitKey(1) == ord('q'):\n",
    "        break\n",
    "\n",
    "# Release everything if job is finished\n",
    "cap.release()\n",
    "out.release()\n",
    "cv2.destroyAllWindows()\n",
    "os.system(\"docker exec openface_docker /home/openface-build/build/bin/FeatureExtraction -f test_vid.avi\")\n",
    "\n"
   ]
  },
  {
   "cell_type": "code",
   "execution_count": 62,
   "metadata": {},
   "outputs": [
    {
     "data": {
      "text/plain": [
       "array([0.7539267 , 0.73298429, 0.76439791, 0.7539267 , 0.7486911 ,\n",
       "       0.76963351, 0.76439791, 0.7486911 , 0.7434555 , 0.7486911 ,\n",
       "       0.7486911 , 0.7539267 , 0.76439791, 0.76439791, 0.76439791,\n",
       "       0.7591623 , 0.7539267 , 0.7486911 , 0.7434555 , 0.7539267 ,\n",
       "       0.7486911 , 0.7434555 , 0.7382199 , 0.7382199 , 0.7382199 ,\n",
       "       0.7382199 , 0.7382199 , 0.7382199 , 0.7382199 , 0.7434555 ,\n",
       "       0.7539267 , 0.76963351, 0.7539267 , 0.7539267 , 0.7486911 ,\n",
       "       0.7382199 , 0.7486911 , 0.7382199 , 0.7382199 , 0.7434555 ,\n",
       "       0.7382199 , 0.73298429, 0.73298429, 0.73298429, 0.73298429,\n",
       "       0.72774869, 0.72774869, 0.72774869, 0.73298429, 0.72774869,\n",
       "       0.73298429, 0.73298429, 0.73298429, 0.72774869, 0.73298429,\n",
       "       0.72774869, 0.73298429, 0.7382199 , 0.73298429, 0.37837838,\n",
       "       0.7486911 , 0.7486911 , 0.7486911 , 0.7486911 , 0.7434555 ,\n",
       "       0.7434555 , 0.7434555 , 0.7434555 , 0.7382199 , 0.7382199 ,\n",
       "       0.7434555 , 0.7486911 , 0.7382199 , 0.7382199 , 0.7382199 ,\n",
       "       0.73298429, 0.73298429, 0.72774869, 0.73298429, 0.7382199 ,\n",
       "       0.7382199 , 0.7382199 , 0.7382199 , 0.7382199 , 0.7434555 ,\n",
       "       0.7486911 , 0.7486911 , 0.7486911 , 0.7486911 , 0.7486911 ,\n",
       "       0.7539267 , 0.7486911 , 0.7486911 , 0.7486911 , 0.7539267 ,\n",
       "       0.7486911 , 0.7486911 , 0.7486911 , 0.7486911 , 0.7486911 ,\n",
       "       0.7539267 , 0.7486911 , 0.7486911 , 0.7486911 , 0.7486911 ,\n",
       "       0.7486911 , 0.7486911 , 0.7486911 , 0.7434555 , 0.7434555 ,\n",
       "       0.7434555 , 0.7434555 , 0.7434555 , 0.7434555 , 0.7486911 ,\n",
       "       0.7486911 , 0.7434555 , 0.7382199 , 0.7434555 , 0.7434555 ,\n",
       "       0.7434555 , 0.7382199 , 0.7382199 , 0.7486911 , 0.7486911 ,\n",
       "       0.7486911 , 0.7539267 , 0.7539267 , 0.7591623 , 0.18918919,\n",
       "       0.76963351, 0.76439791, 0.7434555 , 0.7486911 , 0.7486911 ,\n",
       "       0.7486911 , 0.7591623 , 0.76963351, 0.7591623 , 0.76963351,\n",
       "       0.77486911, 0.76963351, 0.77486911, 0.76963351, 0.76439791,\n",
       "       0.77486911, 0.76963351, 0.76963351, 0.76963351, 0.76439791,\n",
       "       0.76439791, 0.78010471, 0.77486911, 0.76963351, 0.76963351,\n",
       "       0.76963351, 0.7539267 , 0.7539267 ])"
      ]
     },
     "execution_count": 62,
     "metadata": {},
     "output_type": "execute_result"
    }
   ],
   "source": [
    "gaze_scores = gaze_tracker('processed/test_vid.csv')\n",
    "np.min(gaze_scores)\n",
    "\n",
    "\n",
    "gaze_scores\n",
    "\n"
   ]
  },
  {
   "cell_type": "code",
   "execution_count": 12,
   "metadata": {},
   "outputs": [
    {
     "data": {
      "image/png": "[encoded data removed]",
      "text/plain": [
       "<Figure size 800x400 with 1 Axes>"
      ]
     },
     "metadata": {},
     "output_type": "display_data"
    }
   ],
   "source": [
    "\n",
    "# Release everything if job is finished"
   ]
  },
  {
   "cell_type": "code",
   "execution_count": 12,
   "metadata": {},
   "outputs": [
    {
     "ename": "SyntaxError",
     "evalue": "invalid syntax (318487332.py, line 39)",
     "output_type": "error",
     "traceback": [
      "\u001b[0;36m  Cell \u001b[0;32mIn[12], line 39\u001b[0;36m\u001b[0m\n\u001b[0;31m    print(\"Exiting...\")ud\u001b[0m\n\u001b[0m                       ^\u001b[0m\n\u001b[0;31mSyntaxError\u001b[0m\u001b[0;31m:\u001b[0m invalid syntax\n"
     ]
    }
   ],
   "source": [
    "import cv2\n",
    "\n",
    "# Set up the camera\n",
    "cap = cv2.VideoCapture(0)  # 0 is usually the default camera\n",
    "\n",
    "if not cap.isOpened():\n",
    "    print(\"Error: Camera could not be opened.\")\n",
    "    exit()\n",
    "\n",
    "# Continuously capture frames from the camera\n",
    "while True:\n",
    "    ret, frame = cap.read()\n",
    "\n",
    "    if not ret:\n",
    "        print(\"Error: Frame could not be retrieved.\")\n",
    "        breake\n",
    "\n",
    "    # Display the resulting frame\n",
    "    cv2.imshow('frame', frame)\n",
    "\n",
    "    # Wait for a key press for 1ms\n",
    "    key = cv2.waitKey(1) & 0xFF\n",
    "\n",
    "    # Define actio\n",
    "# Release everything if job is finishedns based on key press\n",
    "    if key == ord('u'):\n",
    "        cv2.imwrite('image_up.jpg', frame)\n",
    "        print(\"Saved image_up.jpg\")\n",
    "    elif key == ord('d'):\n",
    "        cv2.imwrite('image_down.jpg', frame)\n",
    "        print(\"Saved image_down.jpg\")\n",
    "    elif key == ord('l'):\n",
    "        cv2.imwrite('image_left.jpg', frame)\n",
    "        print(\"Saved image_left.jpg\")\n",
    "    elif key == ord('r'):\n",
    "        cv2.imwrite('image_right.jpg', frame)\n",
    "        print(\"Saved image_right.jpg\")\n",
    "    elif key == ord('q'):\n",
    "        # Quit the program when 'q' is pressed\n",
    "        print(\"Exiting...\")ud\n",
    "# Release the camera and close all OpenCV windows\n",
    "cap.release()\n",
    "cv2.destroyAllWindows()"
   ]
  },
  {
   "cell_type": "code",
   "execution_count": 30,
   "metadata": {},
   "outputs": [
    {
     "name": "stdout",
     "output_type": "stream",
     "text": [
      "Can't receive frame (stream end?). Exiting ...\n"
     ]
    }
   ],
   "source": [
    "import numpy as np\n",
    "import cv2 as cv\n",
    "\n",
    "# Load gaze scores here, assuming gaze_scores is defined somewhere else\n",
    "# gaze_scores = ...\n",
    "\n",
    "# Initialize video capture\n",
    "cap = cv.VideoCapture('processed/test_vid.avi')\n",
    "if not cap.isOpened():\n",
    "    print(\"Error: Could not open video.\")\n",
    "    exit(1)\n",
    "\n",
    "frame_width = int(cap.get(3))\n",
    "frame_height = int(cap.get(4))\n",
    "size = (frame_width, frame_height)\n",
    "\n",
    "# Initialize VideoWriter\n",
    "result = cv.VideoWriter('output.avi', cv.VideoWriter_fourcc(*'XVID'), 10, size)\n",
    "\n",
    "index = 0\n",
    "while True:\n",
    "    ret, frame = cap.read()\n",
    "    if not ret:\n",
    "        print(\"Can't receive frame (stream end?). Exiting ...\")\n",
    "        break\n",
    "    \n",
    "    if index >= len(gaze_scores):\n",
    "        print(\"Index exceeds length of gaze scores.\")\n",
    "        break\n",
    "\n",
    "    # Adding gaze score to the frame\n",
    "    cv.putText(frame, \"Gaze Score: \" + str(gaze_scores[index]), (50, 50), cv.FONT_HERSHEY_DUPLEX, 0.9, (147, 58, 31), 1)\n",
    "    \n",
    "    # Show frame (for debugging, remove or comment out in production)\n",
    "    cv.imshow('frame', frame)\n",
    "    result.write(frame)\n",
    "    \n",
    "    index += 1\n",
    "    if cv.waitKey(33) == ord('q'):\n",
    "        break\n",
    "\n",
    "cap.release()\n",
    "result.release()\n",
    "cv.destroyAllWindows()\n"
   ]
  }
 ],
 "metadata": {
  "kernelspec": {
   "display_name": "Python 3",
   "language": "python",
   "name": "python3"
  },
  "language_info": {
   "codemirror_mode": {
    "name": "ipython",
    "version": 3
   },
   "file_extension": ".py",
   "mimetype": "text/x-python",
   "name": "python",
   "nbconvert_exporter": "python",
   "pygments_lexer": "ipython3",
   "version": "3.11.8"
  }
 },
 "nbformat": 4,
 "nbformat_minor": 2
}
