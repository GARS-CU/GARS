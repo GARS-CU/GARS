{
 "cells": [
  {
   "cell_type": "code",
   "execution_count": 17,
   "metadata": {},
   "outputs": [
    {
     "name": "stderr",
     "output_type": "stream",
     "text": [
      "[ WARN:0@202.181] global cap_gstreamer.cpp:1777 open OpenCV | GStreamer warning: Cannot query video position: status=0, value=-1, duration=-1\n"
     ]
    },
    {
     "name": "stdout",
     "output_type": "stream",
     "text": [
      "Could not find the HAAR face detector location\n",
      "Reading the landmark detector/tracker from: /home/openface-build/build/bin/model/main_ceclm_general.txt\n",
      "Reading the landmark detector module from: /home/openface-build/build/bin/model/cen_general.txt\n",
      "Reading the PDM module from: /home/openface-build/build/bin/model/pdms/In-the-wild_aligned_PDM_68.txt....Done\n",
      "Reading the Triangulations module from: /home/openface-build/build/bin/model/tris_68.txt....Done\n",
      "Reading the intensity CEN patch experts from: /home/openface-build/build/bin/model/patch_experts/cen_patches_0.25_of.dat....Done\n",
      "Reading the intensity CEN patch experts from: /home/openface-build/build/bin/model/patch_experts/cen_patches_0.35_of.dat....Done\n",
      "Reading the intensity CEN patch experts from: /home/openface-build/build/bin/model/patch_experts/cen_patches_0.50_of.dat....Done\n"
     ]
    },
    {
     "name": "stderr",
     "output_type": "stream",
     "text": [
      "libdc1394 error: Failed to initialize libdc1394\n"
     ]
    },
    {
     "name": "stdout",
     "output_type": "stream",
     "text": [
      "Reading the intensity CEN patch experts from: /home/openface-build/build/bin/model/patch_experts/cen_patches_1.00_of.dat....Done\n",
      "Reading part based module....left_eye_28\n",
      "Reading the landmark detector/tracker from: /home/openface-build/build/bin/model/model_eye/main_clnf_synth_left.txt\n",
      "Reading the landmark detector module from: /home/openface-build/build/bin/model/model_eye/clnf_left_synth.txt\n",
      "Reading the PDM module from: /home/openface-build/build/bin/model/model_eye/pdms/pdm_28_l_eye_3D_closed.txt....Done\n",
      "Reading the intensity CCNF patch experts from: /home/openface-build/build/bin/model/model_eye/patch_experts/left_ccnf_patches_1.00_synth_lid_.txt....Done\n",
      "Reading the intensity CCNF patch experts from: /home/openface-build/build/bin/model/model_eye/patch_experts/left_ccnf_patches_1.50_synth_lid_.txt....Done\n",
      "Could not find the landmark detection model to load\n",
      "Done\n",
      "Reading part based module....right_eye_28\n",
      "Reading the landmark detector/tracker from: /home/openface-build/build/bin/model/model_eye/main_clnf_synth_right.txt\n",
      "Reading the landmark detector module from: /home/openface-build/build/bin/model/model_eye/clnf_right_synth.txt\n",
      "Reading the PDM module from: /home/openface-build/build/bin/model/model_eye/pdms/pdm_28_eye_3D_closed.txt....Done\n",
      "Reading the intensity CCNF patch experts from: /home/openface-build/build/bin/model/model_eye/patch_experts/ccnf_patches_1.00_synth_lid_.txt....Done\n",
      "Reading the intensity CCNF patch experts from: /home/openface-build/build/bin/model/model_eye/patch_experts/ccnf_patches_1.50_synth_lid_.txt....Done\n",
      "Could not find the landmark detection model to load\n",
      "Done\n",
      "Reading the landmark validation module....Done\n",
      "Reading the AU analysis module from: /home/openface-build/build/bin/AU_predictors/main_dynamic_svms.txt\n",
      "Reading the AU predictors from: /home/openface-build/build/bin/AU_predictors/AU_all_best.txt... Done\n",
      "Reading the PDM from: /home/openface-build/build/bin/AU_predictors/In-the-wild_aligned_PDM_68.txt... Done\n",
      "Reading the triangulation from:/home/openface-build/build/bin/AU_predictors/tris_68_full.txt... Done\n",
      "Attempting to read from file: calibrate.avi\n",
      "Device or file opened\n",
      "Starting tracking\n",
      "Reading the MTCNN face detector from: /home/openface-build/build/bin/model/mtcnn_detector/MTCNN_detector.txt\n",
      "Reading the PNet module from: /home/openface-build/build/bin/model/mtcnn_detector/PNet.dat\n",
      "Reading the RNet module from: /home/openface-build/build/bin/model/mtcnn_detector/RNet.dat\n",
      "Reading the ONet module from: /home/openface-build/build/bin/model/mtcnn_detector/ONet.dat\n",
      "0% 10% 20% 30% 40% 50% 60% 70% 80% 90% 100% \n",
      "Closing output recorder\n",
      "Closing input reader\n",
      "Closed successfully\n",
      "Postprocessing the Action Unit predictions\n"
     ]
    },
    {
     "data": {
      "text/plain": [
       "0"
      ]
     },
     "execution_count": 17,
     "metadata": {},
     "output_type": "execute_result"
    }
   ],
   "source": [
    "import numpy as np \n",
    "from focus_calibrator import * \n",
    "import cv2\n",
    "import datetime\n",
    "import os\n",
    "# Define the codec and create VideoWriter object\n",
    "fourcc = cv2.VideoWriter_fourcc(*'XVID')\n",
    "out = cv2.VideoWriter('calibrate.avi', fourcc, 20.0, (640, 480))\n",
    "\n",
    "# Open the default camera\n",
    "cap = cv2.VideoCapture(0)\n",
    "\n",
    "while cap.isOpened():\n",
    "    ret, frame = cap.read()\n",
    "    if not ret:\n",
    "        print(\"Can't receive frame (stream end?). Exiting ...\")\n",
    "        break\n",
    "    cv2.imshow('Video', frame)\n",
    "    # Write the flipped frame\n",
    "    out.write(frame)\n",
    "\n",
    "    # Display the resulting frame\n",
    "    cv2.imshow('frame', frame)\n",
    "    if cv2.waitKey(1) == ord('q'):\n",
    "        break\n",
    "\n",
    "# Release everything if job is finished\n",
    "cap.release()\n",
    "out.release()\n",
    "cv2.destroyAllWindows()\n",
    "os.system(\"docker exec openface_docker /home/openface-build/build/bin/FeatureExtraction -f calibrate.avi\")\n",
    "\n"
   ]
  },
  {
   "cell_type": "code",
   "execution_count": null,
   "metadata": {},
   "outputs": [],
   "source": [
    "import os\n",
    "import numpy as np \n",
    "from focus_calibrator import * \n",
    "os.system(\"docker exec openface_docker /home/openface-build/build/bin/FeatureExtraction -f demo.avi\")"
   ]
  },
  {
   "cell_type": "code",
   "execution_count": 18,
   "metadata": {},
   "outputs": [],
   "source": [
    "from focus_calibrator import * \n",
    "gaze_tracker = Focus_Calibrator('processed/calibrate.csv')"
   ]
  },
  {
   "cell_type": "code",
   "execution_count": 19,
   "metadata": {},
   "outputs": [
    {
     "data": {
      "text/plain": [
       "array([0.74025974, 0.76623377, 0.74025974, 0.77922078, 0.74025974,\n",
       "       0.71428571, 0.74025974, 0.72727273, 0.72727273, 0.72727273,\n",
       "       0.72727273, 0.71428571, 0.71428571, 0.71428571, 0.71428571,\n",
       "       0.71428571, 0.7012987 , 0.71428571, 0.7012987 , 0.67532468,\n",
       "       0.67532468, 0.68831169, 0.67532468, 0.7012987 , 0.68831169,\n",
       "       0.68831169, 0.68831169, 0.71428571, 0.72727273, 0.74025974,\n",
       "       0.48101266, 0.35443038, 0.27848101, 0.27848101, 0.17721519,\n",
       "       0.12658228, 0.17721519, 0.07594937, 0.12658228, 0.05063291,\n",
       "       0.        , 0.02531646, 0.02531646, 0.05063291, 0.10126582,\n",
       "       0.27848101, 0.8961039 , 0.81012658, 0.60759494, 0.55696203,\n",
       "       0.43037975, 0.50632911, 0.32911392, 0.25316456, 0.35443038,\n",
       "       0.27848101, 0.32911392, 0.40506329, 0.40506329, 0.7012987 ,\n",
       "       0.27848101, 0.27848101, 0.35443038, 0.32911392, 0.32911392,\n",
       "       0.35443038, 0.4556962 , 0.81818182, 0.88607595, 0.77922078,\n",
       "       0.46753247, 0.44155844, 0.24675325, 0.12987013, 0.01298701,\n",
       "       0.        , 0.01298701, 0.03896104, 0.05194805, 0.01298701,\n",
       "       0.03896104, 0.03896104, 0.07792208, 0.20779221, 0.42857143,\n",
       "       0.50649351, 0.81818182, 0.65822785, 0.79220779, 0.58441558,\n",
       "       0.48051948, 0.41558442, 0.38961039, 0.32467532, 0.22077922,\n",
       "       0.12987013, 0.06493506, 0.01298701, 0.        , 0.        ,\n",
       "       0.        , 0.        ])"
      ]
     },
     "execution_count": 19,
     "metadata": {},
     "output_type": "execute_result"
    }
   ],
   "source": [
    "gaze_scores = gaze_tracker('processed/calibrate.csv')\n",
    "gaze_scores"
   ]
  },
  {
   "cell_type": "code",
   "execution_count": 13,
   "metadata": {},
   "outputs": [
    {
     "name": "stderr",
     "output_type": "stream",
     "text": [
      "[ WARN:0@97.901] global cap_gstreamer.cpp:1777 open OpenCV | GStreamer warning: Cannot query video position: status=0, value=-1, duration=-1\n",
      "libdc1394 error: Failed to initialize libdc1394\n"
     ]
    },
    {
     "name": "stdout",
     "output_type": "stream",
     "text": [
      "Could not find the HAAR face detector location\n",
      "Reading the landmark detector/tracker from: /home/openface-build/build/bin/model/main_ceclm_general.txt\n",
      "Reading the landmark detector module from: /home/openface-build/build/bin/model/cen_general.txt\n",
      "Reading the PDM module from: /home/openface-build/build/bin/model/pdms/In-the-wild_aligned_PDM_68.txt....Done\n",
      "Reading the Triangulations module from: /home/openface-build/build/bin/model/tris_68.txt....Done\n",
      "Reading the intensity CEN patch experts from: /home/openface-build/build/bin/model/patch_experts/cen_patches_0.25_of.dat....Done\n",
      "Reading the intensity CEN patch experts from: /home/openface-build/build/bin/model/patch_experts/cen_patches_0.35_of.dat....Done\n",
      "Reading the intensity CEN patch experts from: /home/openface-build/build/bin/model/patch_experts/cen_patches_0.50_of.dat....Done\n",
      "Reading the intensity CEN patch experts from: /home/openface-build/build/bin/model/patch_experts/cen_patches_1.00_of.dat....Done\n",
      "Reading part based module....left_eye_28\n",
      "Reading the landmark detector/tracker from: /home/openface-build/build/bin/model/model_eye/main_clnf_synth_left.txt\n",
      "Reading the landmark detector module from: /home/openface-build/build/bin/model/model_eye/clnf_left_synth.txt\n",
      "Reading the PDM module from: /home/openface-build/build/bin/model/model_eye/pdms/pdm_28_l_eye_3D_closed.txt....Done\n",
      "Reading the intensity CCNF patch experts from: /home/openface-build/build/bin/model/model_eye/patch_experts/left_ccnf_patches_1.00_synth_lid_.txt....Done\n",
      "Reading the intensity CCNF patch experts from: /home/openface-build/build/bin/model/model_eye/patch_experts/left_ccnf_patches_1.50_synth_lid_.txt....Done\n",
      "Could not find the landmark detection model to load\n",
      "Done\n",
      "Reading part based module....right_eye_28\n",
      "Reading the landmark detector/tracker from: /home/openface-build/build/bin/model/model_eye/main_clnf_synth_right.txt\n",
      "Reading the landmark detector module from: /home/openface-build/build/bin/model/model_eye/clnf_right_synth.txt\n",
      "Reading the PDM module from: /home/openface-build/build/bin/model/model_eye/pdms/pdm_28_eye_3D_closed.txt....Done\n",
      "Reading the intensity CCNF patch experts from: /home/openface-build/build/bin/model/model_eye/patch_experts/ccnf_patches_1.00_synth_lid_.txt....Done\n",
      "Reading the intensity CCNF patch experts from: /home/openface-build/build/bin/model/model_eye/patch_experts/ccnf_patches_1.50_synth_lid_.txt....Done\n",
      "Could not find the landmark detection model to load\n",
      "Done\n",
      "Reading the landmark validation module....Done\n",
      "Reading the AU analysis module from: /home/openface-build/build/bin/AU_predictors/main_dynamic_svms.txt\n",
      "Reading the AU predictors from: /home/openface-build/build/bin/AU_predictors/AU_all_best.txt... Done\n",
      "Reading the PDM from: /home/openface-build/build/bin/AU_predictors/In-the-wild_aligned_PDM_68.txt... Done\n",
      "Reading the triangulation from:/home/openface-build/build/bin/AU_predictors/tris_68_full.txt... Done\n",
      "Attempting to read from file: test_vid.avi\n",
      "Device or file opened\n",
      "Starting tracking\n",
      "Reading the MTCNN face detector from: /home/openface-build/build/bin/model/mtcnn_detector/MTCNN_detector.txt\n",
      "Reading the PNet module from: /home/openface-build/build/bin/model/mtcnn_detector/PNet.dat\n",
      "Reading the RNet module from: /home/openface-build/build/bin/model/mtcnn_detector/RNet.dat\n",
      "Reading the ONet module from: /home/openface-build/build/bin/model/mtcnn_detector/ONet.dat\n",
      "0% 10% 20% 30% 40% 50% 60% 70% 80% 90% 100% \n",
      "Closing output recorder\n",
      "Closing input reader\n",
      "Closed successfully\n",
      "Postprocessing the Action Unit predictions\n"
     ]
    },
    {
     "data": {
      "text/plain": [
       "0"
      ]
     },
     "execution_count": 13,
     "metadata": {},
     "output_type": "execute_result"
    }
   ],
   "source": [
    "fourcc = cv2.VideoWriter_fourcc(*'XVID')\n",
    "out = cv2.VideoWriter('test_vid.avi', fourcc, 20.0, (640, 480))\n",
    "\n",
    "# Open the default camera\n",
    "cap = cv2.VideoCapture(0)\n",
    "\n",
    "while cap.isOpened():\n",
    "    ret, frame = cap.read()\n",
    "    if not ret:\n",
    "        print(\"Can't receive frame (stream end?). Exiting ...\")\n",
    "        break\n",
    "    cv2.imshow('Video', frame)\n",
    "    # Write the flipped frame\n",
    "    out.write(frame)\n",
    "\n",
    "    # Display the resulting frame\n",
    "    cv2.imshow('frame', frame)\n",
    "    if cv2.waitKey(1) == ord('q'):\n",
    "        break\n",
    "\n",
    "# Release everything if job is finished\n",
    "cap.release()\n",
    "out.release()\n",
    "cv2.destroyAllWindows()\n",
    "os.system(\"docker exec openface_docker /home/openface-build/build/bin/FeatureExtraction -f test_vid.avi\")\n",
    "\n"
   ]
  },
  {
   "cell_type": "code",
   "execution_count": 15,
   "metadata": {},
   "outputs": [
    {
     "data": {
      "text/plain": [
       "0.16176470588235295"
      ]
     },
     "execution_count": 15,
     "metadata": {},
     "output_type": "execute_result"
    }
   ],
   "source": [
    "gaze_scores = gaze_tracker('processed/test_vid.csv')\n",
    "np.min(gaze_scores)\n",
    "\n",
    "\n",
    "np.sum(gaze_scores < 0)/np.sum(gaze_scores > 0)\n",
    "\n"
   ]
  },
  {
   "cell_type": "code",
   "execution_count": 12,
   "metadata": {},
   "outputs": [
    {
     "data": {
      "image/png": "[encoded data removed]",
      "text/plain": [
       "<Figure size 800x400 with 1 Axes>"
      ]
     },
     "metadata": {},
     "output_type": "display_data"
    }
   ],
   "source": [
    "\n",
    "# Release everything if job is finished"
   ]
  },
  {
   "cell_type": "code",
   "execution_count": 12,
   "metadata": {},
   "outputs": [
    {
     "ename": "SyntaxError",
     "evalue": "invalid syntax (318487332.py, line 39)",
     "output_type": "error",
     "traceback": [
      "\u001b[0;36m  Cell \u001b[0;32mIn[12], line 39\u001b[0;36m\u001b[0m\n\u001b[0;31m    print(\"Exiting...\")ud\u001b[0m\n\u001b[0m                       ^\u001b[0m\n\u001b[0;31mSyntaxError\u001b[0m\u001b[0;31m:\u001b[0m invalid syntax\n"
     ]
    }
   ],
   "source": [
    "import cv2\n",
    "\n",
    "# Set up the camera\n",
    "cap = cv2.VideoCapture(0)  # 0 is usually the default camera\n",
    "\n",
    "if not cap.isOpened():\n",
    "    print(\"Error: Camera could not be opened.\")\n",
    "    exit()\n",
    "\n",
    "# Continuously capture frames from the camera\n",
    "while True:\n",
    "    ret, frame = cap.read()\n",
    "\n",
    "    if not ret:\n",
    "        print(\"Error: Frame could not be retrieved.\")\n",
    "        breake\n",
    "\n",
    "    # Display the resulting frame\n",
    "    cv2.imshow('frame', frame)\n",
    "\n",
    "    # Wait for a key press for 1ms\n",
    "    key = cv2.waitKey(1) & 0xFF\n",
    "\n",
    "    # Define actio\n",
    "# Release everything if job is finishedns based on key press\n",
    "    if key == ord('u'):\n",
    "        cv2.imwrite('image_up.jpg', frame)\n",
    "        print(\"Saved image_up.jpg\")\n",
    "    elif key == ord('d'):\n",
    "        cv2.imwrite('image_down.jpg', frame)\n",
    "        print(\"Saved image_down.jpg\")\n",
    "    elif key == ord('l'):\n",
    "        cv2.imwrite('image_left.jpg', frame)\n",
    "        print(\"Saved image_left.jpg\")\n",
    "    elif key == ord('r'):\n",
    "        cv2.imwrite('image_right.jpg', frame)\n",
    "        print(\"Saved image_right.jpg\")\n",
    "    elif key == ord('q'):\n",
    "        # Quit the program when 'q' is pressed\n",
    "        print(\"Exiting...\")ud\n",
    "# Release the camera and close all OpenCV windows\n",
    "cap.release()\n",
    "cv2.destroyAllWindows()"
   ]
  },
  {
   "cell_type": "code",
   "execution_count": 20,
   "metadata": {},
   "outputs": [
    {
     "name": "stdout",
     "output_type": "stream",
     "text": [
      "Can't receive frame (stream end?). Exiting ...\n"
     ]
    }
   ],
   "source": [
    "import numpy as np\n",
    "import cv2 as cv\n",
    "\n",
    "# Load gaze scores here, assuming gaze_scores is defined somewhere else\n",
    "# gaze_scores = ...\n",
    "\n",
    "# Initialize video capture\n",
    "cap = cv.VideoCapture('processed/calibrate.avi')\n",
    "if not cap.isOpened():\n",
    "    print(\"Error: Could not open video.\")\n",
    "    exit(1)\n",
    "\n",
    "frame_width = int(cap.get(3))\n",
    "frame_height = int(cap.get(4))\n",
    "size = (frame_width, frame_height)\n",
    "\n",
    "# Initialize VideoWriter\n",
    "result = cv.VideoWriter('output.avi', cv.VideoWriter_fourcc(*'XVID'), 10, size)\n",
    "\n",
    "index = 0\n",
    "while True:\n",
    "    ret, frame = cap.read()\n",
    "    if not ret:\n",
    "        print(\"Can't receive frame (stream end?). Exiting ...\")\n",
    "        break\n",
    "    \n",
    "    if index >= len(gaze_scores):\n",
    "        print(\"Index exceeds length of gaze scores.\")\n",
    "        break\n",
    "\n",
    "    # Adding gaze score to the frame\n",
    "    cv.putText(frame, \"Gaze Score: \" + str(gaze_scores[index]), (50, 50), cv.FONT_HERSHEY_DUPLEX, 0.9, (147, 58, 31), 1)\n",
    "    \n",
    "    # Show frame (for debugging, remove or comment out in production)\n",
    "    cv.imshow('frame', frame)\n",
    "    result.write(frame)\n",
    "    \n",
    "    index += 1\n",
    "    if cv.waitKey(33) == ord('q'):\n",
    "        break\n",
    "\n",
    "cap.release()\n",
    "result.release()\n",
    "cv.destroyAllWindows()\n"
   ]
  }
 ],
 "metadata": {
  "kernelspec": {
   "display_name": "Python 3",
   "language": "python",
   "name": "python3"
  },
  "language_info": {
   "codemirror_mode": {
    "name": "ipython",
    "version": 3
   },
   "file_extension": ".py",
   "mimetype": "text/x-python",
   "name": "python",
   "nbconvert_exporter": "python",
   "pygments_lexer": "ipython3",
   "version": "3.11.8"
  }
 },
 "nbformat": 4,
 "nbformat_minor": 2
}
